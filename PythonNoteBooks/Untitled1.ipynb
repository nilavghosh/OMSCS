{
 "cells": [
  {
   "cell_type": "code",
   "execution_count": 2,
   "metadata": {
    "collapsed": false
   },
   "outputs": [],
   "source": [
    "import os\n"
   ]
  },
  {
   "cell_type": "code",
   "execution_count": 3,
   "metadata": {
    "collapsed": false
   },
   "outputs": [
    {
     "ename": "NameError",
     "evalue": "name '__file__' is not defined",
     "output_type": "error",
     "traceback": [
      "\u001b[1;31m---------------------------------------------------------------------------\u001b[0m",
      "\u001b[1;31mNameError\u001b[0m                                 Traceback (most recent call last)",
      "\u001b[1;32m<ipython-input-3-0e75f935e925>\u001b[0m in \u001b[0;36m<module>\u001b[1;34m()\u001b[0m\n\u001b[1;32m----> 1\u001b[1;33m \u001b[0mos\u001b[0m\u001b[1;33m.\u001b[0m\u001b[0mpath\u001b[0m\u001b[1;33m.\u001b[0m\u001b[0mdirname\u001b[0m\u001b[1;33m(\u001b[0m\u001b[0mos\u001b[0m\u001b[1;33m.\u001b[0m\u001b[0mpath\u001b[0m\u001b[1;33m.\u001b[0m\u001b[0mabspath\u001b[0m\u001b[1;33m(\u001b[0m\u001b[0m__file__\u001b[0m\u001b[1;33m)\u001b[0m\u001b[1;33m)\u001b[0m\u001b[1;33m\u001b[0m\u001b[0m\n\u001b[0m",
      "\u001b[1;31mNameError\u001b[0m: name '__file__' is not defined"
     ]
    }
   ],
   "source": [
    "os.path.dirname(os.path.abspath(__file__))"
   ]
  },
  {
   "cell_type": "code",
   "execution_count": 4,
   "metadata": {
    "collapsed": false
   },
   "outputs": [
    {
     "data": {
      "text/plain": [
       "'C:\\\\Learning\\\\OMSCS\\\\OMSCS-Code\\\\PythonNoteBooks'"
      ]
     },
     "execution_count": 4,
     "metadata": {},
     "output_type": "execute_result"
    }
   ],
   "source": [
    "os.getcwd()"
   ]
  },
  {
   "cell_type": "code",
   "execution_count": 1,
   "metadata": {
    "collapsed": true
   },
   "outputs": [],
   "source": [
    "import pandas as pd\n"
   ]
  },
  {
   "cell_type": "code",
   "execution_count": 2,
   "metadata": {
    "collapsed": false
   },
   "outputs": [
    {
     "ename": "ImportError",
     "evalue": "cannot import name web",
     "output_type": "error",
     "traceback": [
      "\u001b[1;31m---------------------------------------------------------------------------\u001b[0m",
      "\u001b[1;31mImportError\u001b[0m                               Traceback (most recent call last)",
      "\u001b[1;32m<ipython-input-2-0ffa58b2da6f>\u001b[0m in \u001b[0;36m<module>\u001b[1;34m()\u001b[0m\n\u001b[1;32m----> 1\u001b[1;33m \u001b[1;32mfrom\u001b[0m \u001b[0mpandas\u001b[0m \u001b[1;32mimport\u001b[0m \u001b[0mweb\u001b[0m\u001b[1;33m\u001b[0m\u001b[0m\n\u001b[0m",
      "\u001b[1;31mImportError\u001b[0m: cannot import name web"
     ]
    }
   ],
   "source": [
    "from pandas import web\n"
   ]
  },
  {
   "cell_type": "code",
   "execution_count": 7,
   "metadata": {
    "collapsed": true
   },
   "outputs": [],
   "source": [
    "import pandas.io.data as web \n",
    "import datetime"
   ]
  },
  {
   "cell_type": "code",
   "execution_count": 25,
   "metadata": {
    "collapsed": false
   },
   "outputs": [],
   "source": [
    "msft = web.DataReader('^GSPC', 'yahoo', start='1/1/2000', end='4/14/2014')"
   ]
  },
  {
   "cell_type": "code",
   "execution_count": 32,
   "metadata": {
    "collapsed": false
   },
   "outputs": [
    {
     "data": {
      "text/plain": [
       "Date\n",
       "2000-01-03    1469.250000\n",
       "2000-01-04    1455.219971\n",
       "2000-01-05    1399.420044\n",
       "2000-01-06    1402.109985\n",
       "2000-01-07    1403.449951\n",
       "2000-01-10    1441.469971\n",
       "2000-01-11    1457.599976\n",
       "2000-01-12    1438.560059\n",
       "2000-01-13    1432.250000\n",
       "2000-01-14    1449.680054\n",
       "2000-01-18    1465.150024\n",
       "2000-01-19    1455.140015\n",
       "2000-01-20    1455.900024\n",
       "2000-01-21    1445.569946\n",
       "2000-01-24    1441.359985\n",
       "2000-01-25    1401.530029\n",
       "2000-01-26    1410.030029\n",
       "2000-01-27    1404.089966\n",
       "2000-01-28    1398.560059\n",
       "2000-01-31    1360.160034\n",
       "2000-02-01    1394.459961\n",
       "2000-02-02    1409.280029\n",
       "2000-02-03    1409.119995\n",
       "2000-02-04    1424.969971\n",
       "2000-02-07    1424.369995\n",
       "2000-02-08    1424.239990\n",
       "2000-02-09    1441.719971\n",
       "2000-02-10    1411.699951\n",
       "2000-02-11    1416.829956\n",
       "2000-02-14    1387.119995\n",
       "                 ...     \n",
       "2014-03-04    1849.229980\n",
       "2014-03-05    1874.050049\n",
       "2014-03-06    1874.180054\n",
       "2014-03-07    1878.520020\n",
       "2014-03-10    1877.859985\n",
       "2014-03-11    1878.260010\n",
       "2014-03-12    1866.150024\n",
       "2014-03-13    1869.060059\n",
       "2014-03-14    1845.069946\n",
       "2014-03-17    1842.810059\n",
       "2014-03-18    1858.920044\n",
       "2014-03-19    1872.250000\n",
       "2014-03-20    1860.089966\n",
       "2014-03-21    1874.530029\n",
       "2014-03-24    1867.670044\n",
       "2014-03-25    1859.479980\n",
       "2014-03-26    1867.089966\n",
       "2014-03-27    1852.109985\n",
       "2014-03-28    1850.069946\n",
       "2014-03-31    1859.160034\n",
       "2014-04-01    1873.959961\n",
       "2014-04-02    1886.609985\n",
       "2014-04-03    1891.430054\n",
       "2014-04-04    1890.250000\n",
       "2014-04-07    1863.920044\n",
       "2014-04-08    1845.479980\n",
       "2014-04-09    1852.640015\n",
       "2014-04-10    1872.280029\n",
       "2014-04-11    1830.650024\n",
       "2014-04-14    1818.180054\n",
       "Name: Open, dtype: float64"
      ]
     },
     "execution_count": 32,
     "metadata": {},
     "output_type": "execute_result"
    }
   ],
   "source": [
    "msft[\"Open\"]\n"
   ]
  },
  {
   "cell_type": "code",
   "execution_count": 24,
   "metadata": {
    "collapsed": false
   },
   "outputs": [
    {
     "ename": "TypeError",
     "evalue": "object of type 'NoneType' has no len()",
     "output_type": "error",
     "traceback": [
      "\u001b[1;31m---------------------------------------------------------------------------\u001b[0m",
      "\u001b[1;31mTypeError\u001b[0m                                 Traceback (most recent call last)",
      "\u001b[1;32m<ipython-input-24-26cfd2154828>\u001b[0m in \u001b[0;36m<module>\u001b[1;34m()\u001b[0m\n\u001b[1;32m----> 1\u001b[1;33m \u001b[0mlen\u001b[0m\u001b[1;33m(\u001b[0m\u001b[0mmsft\u001b[0m\u001b[1;33m)\u001b[0m\u001b[1;33m\u001b[0m\u001b[0m\n\u001b[0m",
      "\u001b[1;31mTypeError\u001b[0m: object of type 'NoneType' has no len()"
     ]
    }
   ],
   "source": []
  },
  {
   "cell_type": "code",
   "execution_count": null,
   "metadata": {
    "collapsed": true
   },
   "outputs": [],
   "source": []
  }
 ],
 "metadata": {
  "kernelspec": {
   "display_name": "Python 2",
   "language": "python",
   "name": "python2"
  },
  "language_info": {
   "codemirror_mode": {
    "name": "ipython",
    "version": 2
   },
   "file_extension": ".py",
   "mimetype": "text/x-python",
   "name": "python",
   "nbconvert_exporter": "python",
   "pygments_lexer": "ipython2",
   "version": "2.7.9"
  }
 },
 "nbformat": 4,
 "nbformat_minor": 0
}
